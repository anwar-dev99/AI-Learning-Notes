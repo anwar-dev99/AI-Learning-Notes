{
  "nbformat": 4,
  "nbformat_minor": 0,
  "metadata": {
    "colab": {
      "provenance": [],
      "authorship_tag": "ABX9TyOilw7Sgg8UmR2yQOU6sUNl",
      "include_colab_link": true
    },
    "kernelspec": {
      "name": "python3",
      "display_name": "Python 3"
    },
    "language_info": {
      "name": "python"
    }
  },
  "cells": [
    {
      "cell_type": "markdown",
      "metadata": {
        "id": "view-in-github",
        "colab_type": "text"
      },
      "source": [
        "<a href=\"https://colab.research.google.com/github/anwar-dev99/AI-Notebook-Notes/blob/main/Computer_Vision/OpenCV_Fundamentals.ipynb\" target=\"_parent\"><img src=\"https://colab.research.google.com/assets/colab-badge.svg\" alt=\"Open In Colab\"/></a>"
      ]
    },
    {
      "cell_type": "markdown",
      "source": [
        "# **Computer Vision: An Introduction**\n",
        "## **Overview**\n",
        "Computer vision is a fascinating field of artificial intelligence (AI) and computer science that focuses on enabling computers to **interpret and understand visual data**, much like humans do. It involves techniques for processing images and videos, extracting meaningful information, and making intelligent decisions based on visual input.\n",
        "\n",
        "---\n",
        "\n",
        "## **Key Applications of Computer Vision**\n",
        "### **1. Object Detection & Recognition**\n",
        "- Identifying objects, people, or animals in images and videos.\n",
        "- Used in security systems, smart cameras, and autonomous devices.\n",
        "\n",
        "### **2. Facial Recognition**\n",
        "- Applied in authentication, social media tagging, and security.\n",
        "- Used for unlocking smartphones, biometric verification, and surveillance.\n",
        "\n",
        "### **3. Medical Imaging**\n",
        "- Helps doctors analyze X-rays, MRIs, and CT scans for diagnoses.\n",
        "- Assists in detecting diseases such as cancer and neurological disorders.\n",
        "\n",
        "### **4. Autonomous Vehicles**\n",
        "- Enables self-driving cars to recognize pedestrians, traffic signs, and road conditions.\n",
        "- Uses LiDAR, radar, and computer vision to process environmental data.\n",
        "\n",
        "### **5. Augmented Reality (AR) & Virtual Reality (VR)**\n",
        "- Enhances interactive experiences by detecting environments in real-time.\n",
        "- Used in gaming, retail shopping experiences, and medical training simulations.\n",
        "\n",
        "### **6. Industrial Automation**\n",
        "- Inspects products for defects in manufacturing processes.\n",
        "- Optimizes efficiency in production lines with automated vision systems.\n",
        "\n",
        "---\n",
        "\n",
        "## **OpenCV (`cv2`): A Key Library for Computer Vision**\n",
        "### **What is OpenCV?**\n",
        "OpenCV (Open Source Computer Vision Library) is an open-source toolkit designed for real-time **image and video processing**. It provides tools for:\n",
        "- Image transformation and filtering.\n",
        "- Object detection and tracking.\n",
        "- Facial recognition and gesture analysis.\n",
        "- Deep learning integration for computer vision tasks.\n",
        "\n",
        "### **Why Use OpenCV (`cv2`)?**\n",
        "✔ **Efficient & Fast** – Optimized with a C++ backend but accessible through Python (`cv2`).  \n",
        "✔ **Extensive Functionality** – Supports image transformations, object detection, and deep learning models.  \n",
        "✔ **Widely Used** – Applied in robotics, healthcare, surveillance, and AI research.  \n",
        "\n",
        "### **Why `cv2` Instead of `cv1` or `cv`?**\n",
        "OpenCV originally started as `cv1`, but it was later deprecated due to its complex C-style interface and limited functionality. OpenCV 2 (`cv2`) introduced a more Python-friendly API, better image processing capabilities, and optimized performance, making it the preferred library for modern computer vision applications. There is no official standalone `cv` module in Python OpenCV, as `cv2` became the standard for improved usability and deep learning support."
      ],
      "metadata": {
        "id": "widtkq8ia0tZ"
      }
    },
    {
      "cell_type": "markdown",
      "source": [
        "# OpenCV Videos\n",
        "### Read & Display video from a file"
      ],
      "metadata": {
        "id": "UyWldtD6dkqy"
      }
    },
    {
      "cell_type": "code",
      "source": [
        "# ⚠ WARNING: This code will NOT work in Google Colab because `cv2.imshow()`\n",
        "# is not supported in a cloud-based environment. Use Matplotlib (`plt.imshow()`) instead.\n",
        "\n",
        "import cv2  # Import the OpenCV library\n",
        "\n",
        "# Open a video file\n",
        "cap = cv2.VideoCapture(\"video.mp4\")  # Load the video from the specified file path\n",
        "\n",
        "# Loop through video frames until the file ends or user exits\n",
        "while cap.isOpened():\n",
        "    ret, frame = cap.read()  # Read the next frame from the video\n",
        "    if not ret:  # If no more frames are available, exit the loop\n",
        "        break\n",
        "\n",
        "    cv2.imshow(\"Video Frame\", frame)  # Display the current frame (⚠ Not supported in Google Colab)\n",
        "\n",
        "    # Wait for 25 milliseconds between frames,\n",
        "    # Exit if the 'q' key is pressed\n",
        "    if cv2.waitKey(25) & 0xFF == ord(\"q\"):\n",
        "        break\n",
        "\n",
        "# Convert frame to grayscale\n",
        "gray_frame = cv2.cvtColor(frame, cv2.COLOR_BGR2GRAY)\n",
        "\n",
        "# Resize the frame (scale the frames to a new width and height)\n",
        "resized_frame = cv2.resize(frame, (new_width, new_height))\n",
        "\n",
        "# Release the video capture object (free resources)\n",
        "cap.release()\n",
        "\n",
        "# Close all OpenCV windows\n",
        "cv2.destroyAllWindows()\n",
        "\n",
        "# cap.release() ensures the video file is properly closed after processing.\n",
        "# - Frees system memory to prevent resource leaks.\n",
        "# - Prevents errors when working with multiple video files.\n",
        "# - Stops OpenCV from holding the file open unnecessarily.\n",
        "# Always release video resources when finished to maintain optimal performance.\n",
        "# cv2.destroyAllWindows() ➝ Closes OpenCV display windows but does not release video files."
      ],
      "metadata": {
        "id": "GF6hatTygXZm"
      },
      "execution_count": 1,
      "outputs": []
    },
    {
      "cell_type": "markdown",
      "source": [
        "### Capture Video from Webcam"
      ],
      "metadata": {
        "id": "I33xodxcgfmp"
      }
    },
    {
      "cell_type": "code",
      "source": [
        "cap = cv2.VideoCapture(0)  # 0 for default webcam    # 1 of USB connected cam\n",
        "\n",
        "while True:\n",
        "    ret, frame = cap.read()\n",
        "    if not ret:\n",
        "        break\n",
        "\n",
        "    cv2.imshow(\"Live Webcam Feed\", frame)\n",
        "\n",
        "    if cv2.waitKey(1) & 0xFF == ord(\"q\"):  # Press 'q' to quit\n",
        "        break\n",
        "\n",
        "cap.release()\n",
        "cv2.destroyAllWindows()\n"
      ],
      "metadata": {
        "id": "w15VjMKxk0kv"
      },
      "execution_count": null,
      "outputs": []
    },
    {
      "cell_type": "markdown",
      "source": [
        "### Save Processed Video"
      ],
      "metadata": {
        "id": "7n_Zacpsluts"
      }
    },
    {
      "cell_type": "code",
      "source": [
        "cap = cv2.VideoCapture(\"video.mp4\")\n",
        "fourcc = cv2.VideoWriter_fourcc(*\"XVID\")  # Define codec\n",
        "out = cv2.VideoWriter(\"output.avi\", fourcc, 30, (int(cap.get(3)), int(cap.get(4))))\n",
        "\n",
        "while cap.isOpened():\n",
        "    ret, frame = cap.read()\n",
        "    if not ret:\n",
        "        break\n",
        "\n",
        "    out.write(frame)  # Save frame to output video file\n",
        "\n",
        "cap.release()\n",
        "out.release()\n",
        "cv2.destroyAllWindows()"
      ],
      "metadata": {
        "id": "_9ExyQKClxHU"
      },
      "execution_count": null,
      "outputs": []
    },
    {
      "cell_type": "markdown",
      "source": [
        "### Apply Edge Detection to Video Frames"
      ],
      "metadata": {
        "id": "aqctZndll1Ol"
      }
    },
    {
      "cell_type": "code",
      "source": [
        "while cap.isOpened():\n",
        "    ret, frame = cap.read()\n",
        "    if not ret:\n",
        "        break\n",
        "\n",
        "    edges = cv2.Canny(frame, 100, 200)  # Apply Canny edge detection\n",
        "    cv2.imshow(\"Edge Detection\", edges)\n",
        "\n",
        "    if cv2.waitKey(25) & 0xFF == ord(\"q\"):\n",
        "        break\n",
        "\n",
        "cap.release()\n",
        "cv2.destroyAllWindows()"
      ],
      "metadata": {
        "id": "SCnLHpRzl-ao"
      },
      "execution_count": null,
      "outputs": []
    }
  ]
}