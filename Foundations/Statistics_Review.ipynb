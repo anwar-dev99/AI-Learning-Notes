{
  "nbformat": 4,
  "nbformat_minor": 0,
  "metadata": {
    "colab": {
      "provenance": [],
      "authorship_tag": "ABX9TyMMWmDH7KvOgJlQYtbkEwBY"
    },
    "kernelspec": {
      "name": "python3",
      "display_name": "Python 3"
    },
    "language_info": {
      "name": "python"
    }
  },
  "cells": [
    {
      "cell_type": "markdown",
      "source": [
        "# Measures of Central Tendency (Describe the \"center\" of the data)\n",
        "\n",
        "These statistics help identify where most values in a dataset are concentrated.\n",
        "\n",
        "## 1. Mean (Average)\n",
        "The arithmetic mean is obtained by summing all values and dividing by the count.\n",
        "\n",
        "**Example**: For [2, 3, 5, 7], the mean is **4.25**.\n",
        "\n",
        "**Use**: Best for symmetrical distributions but affected by outliers.\n",
        "\n",
        "## 2. Mode (Most Frequent Value)\n",
        "The value that appears most often.\n",
        "\n",
        "**Example**: In [1, 2, 2, 3, 4], the mode is **2**.\n",
        "\n",
        "**Use**: Useful for categorical data and unimodal/multimodal datasets.\n",
        "\n",
        "## 3. Median (Middle Value)\n",
        "The middle number in a sorted dataset.\n",
        "\n",
        "**Example**: In [1, 3, 3, 6, 7, 8, 9], the median is **6**.\n",
        "\n",
        "**Use**: Best for skewed distributions because it's not affected by extreme values.\n",
        "\n",
        "---\n",
        "\n",
        "# Measures of Dispersion (Describe the spread or variability of the data)\n",
        "\n",
        "These statistics indicate how scattered values are.\n",
        "\n",
        "## 1. Standard Deviation (Variability around the mean)\n",
        "A measure of how much values deviate from the average.\n",
        "\n",
        "**Use**: Higher standard deviation means more spread in data.\n",
        "\n",
        "## 2. Range (Difference between max and min)\n",
        "**Example**: In [5, 10, 15], the range is **10**.\n",
        "\n",
        "**Use**: Simple but sensitive to outliers.\n",
        "\n",
        "## 3. Interquartile Range (IQR) (Middle 50% Spread)\n",
        "![1.png](data:image/png;base64,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)\n",
        "\n",
        "![iqr_quartiles.png](data:image/png;base64,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)\n",
        "\n",
        "\n",
        "**Definition**: IQR represents the range within which the middle 50% of data falls, calculated as:\n",
        "\n",
        "$$ IQR = Q3 - Q1 $$\n",
        "\n",
        "**Example**: In [1, 3, 5, 7, 9],\n",
        "\n",
        "- **Q1 (25th percentile) = 3**\n",
        "- **Q3 (75th percentile) = 7**\n",
        "- **IQR = 7 - 3 = 4**\n",
        "\n",
        "### **Use**:\n",
        "- **Resistant to Outliers** – Unlike range or standard deviation, IQR ignores extreme values.\n",
        "- **Best for Boxplots** – Used to identify outliers when plotting data.\n",
        "- **Useful for Skewed Data** – If the IQR is large, the data has a wider spread.\n"
      ],
      "metadata": {
        "id": "MlSpLysSk2pv"
      }
    },
    {
      "cell_type": "markdown",
      "source": [],
      "metadata": {
        "id": "3JvJ1oOYqdcU"
      }
    }
  ]
}