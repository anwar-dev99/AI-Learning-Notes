{
  "nbformat": 4,
  "nbformat_minor": 0,
  "metadata": {
    "colab": {
      "provenance": [],
      "toc_visible": true,
      "authorship_tag": "ABX9TyNGUZNeZTWt1uT41wNPTgeX"
    },
    "kernelspec": {
      "name": "python3",
      "display_name": "Python 3"
    },
    "language_info": {
      "name": "python"
    }
  },
  "cells": [
    {
      "cell_type": "markdown",
      "source": [
        "# Introduction"
      ],
      "metadata": {
        "id": "zJR4d0SHfhlW"
      }
    },
    {
      "cell_type": "markdown",
      "source": [
        "## Types of ML:\n",
        "**Supervised ML**\n",
        "*   Require training date with independent variable and dependent variable (labbelled Data).\n",
        "*   Need labelled data that can supervise the algorithm when learning from the data.\n",
        "*   Examples: regression models & classification models.\n",
        "\n",
        "**Unsupervised ML**\n",
        "*   Require training data with independet variables only.\n",
        "*   No need for labelled data that can supervise the algorithm when learning from the data.\n",
        "*   Examples: clustering models & outlier dectection models."
      ],
      "metadata": {
        "id": "Bdae6z9LfqZP"
      }
    }
  ]
}